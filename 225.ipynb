{
 "cells": [
  {
   "cell_type": "markdown",
   "id": "cee8f137",
   "metadata": {},
   "source": [
    "Congratulations on getting to the end of Sprint 2! You have almost completed one of the more confusing Sprints in this course - statistical inference. You now know how to estimate population parameters from samples, how to express uncertainty using confidence intervals and how to test hypotheses. Now it is time to apply these skills on some real-world datasets.\n",
    "\n",
    "### Objectives\n",
    "- Practice analyzing experiments.\n",
    "- Practice conducting statistical tests and calculating confidence intervals.\n",
    "- Practice communicating results of an A/B test.\n",
    "- Practice creating dashboards.\n",
    "\n",
    "### Requirements\n",
    "\n",
    "Your task is to analyze two datasets - [Fast Food Marketing Campaign A\\B Test dataset](https://www.kaggle.com/datasets/chebotinaa/fast-food-marketing-campaign-ab-test) and [Cookie Cats A/B Test](https://www.kaggle.com/datasets/mursideyarkin/mobile-games-ab-testing-cookie-cats) dataset. To do that, you will have to create two analysis Jupyter notebooks, both with the following structure:\n",
    "\n",
    "1. Goal. Based on the dataset description in Kaggle, describe the goal of the A/B test. Give any necessary context.\n",
    "2. Target metric. Choose a target metric and describe how it measures progress towards the stated goal of the A/B test.\n",
    "3. Calculations.\n",
    "    - In your notebook, aggregate and prepare data as needed. Report key information about the A/B test, including the sample size and variant proportions.\n",
    "    - Conduct statistical tests. Describe which test you have chosen for each metric and why.\n",
    "    - Report the estimated treatment effect, confidence interval and p-value. For one of the datasets, compute the confidence interval both analytically and using bootstrap and report both intervals.\n",
    "4. Decision. Describe clearly what your calculations imply and which decision you recommend. Use visualizations to show differences in the metric between groups and confidence intervals.\n",
    "\n",
    "In addition to the notebooks, create a dashboard with at least two plots. One of the plots should illustrate how the target metric changes across the weeks in the Fast Food Marketing Campaign A/B test.\n",
    "\n",
    "Some tips:\n",
    "1. There are several statistical tests that you might need during this project - Student’s t-test, binomial test and the chi-square test. Here are some good resources on them:\n",
    "    - [Student’s t-test](https://www.youtube.com/watch?v=pTmLQvMM-1M) and [Scipy documentation](https://docs.scipy.org/doc/scipy/reference/generated/scipy.stats.ttest_ind.html)\n",
    "    - [Chi-square test](https://www.youtube.com/watch?v=jABsbNBPXIk) and [Scipy documentation](https://docs.scipy.org/doc/scipy/reference/generated/scipy.stats.chisquare.html)\n",
    "2. For statistical tests, feel free to check your numbers against those given by the [Evan Miller A/B Test Calculator.](https://www.evanmiller.org/ab-testing/)\n",
    "\n",
    "### Evaluation Criteria\n",
    "\n",
    "- Adherence to the requirements. How well did you meet the requirements?\n",
    "- Visualization quality, in both the notebooks and the dashboard. Did you use charts effectively to support your recommendations? Are your visualizations properly labeled? Did you use colors effectively? Did you adhere to the principle of proportional ink?\n",
    "- Interpretation of results. Are you able to explain where the uncertainty in your estimates comes from? Are you able to measure and communicate that uncertainty in the form of a confidence interval?\n",
    "- Text clarity. Are you able to clearly communicate the goals of the A/B test, why you chose specific metrics and the results of the A/B test?\n",
    "- Code quality. Was your code well-structured? Did you use the appropriate levels of abstraction? Did you remove commented out and unused code? Did you adhere to PEP8?\n",
    "- Code performance. Did you use the suitable algorithms and data structures to solve the problems?\n",
    "\n",
    "### Project Review\n",
    "\n",
    "During your project review, you should present your project as if talking to a manager and senior data scientist working in your team. You will have to find the right balance between explaining your insights intuitively and diving deeper into the technical aspects of your work. \n",
    "\n",
    "During a project review, you may get asked questions that test your understanding of covered topics. Here are some examples:\n",
    "- What is a confidence interval? Why do we need it? Why is it not sufficient to just report the point estimates?\n",
    "- Why is metric choice so important in A/B tests?\n",
    "- What is a treatment effect?\n",
    "- What are randomized controlled experiments? Why do we need them?\n",
    "\n",
    "For general project review guidelines, please refer to [this document.](https://turingcollege.atlassian.net/wiki/spaces/DLG/pages/537395951/Peer+expert+reviews+corrections)\n",
    "\n",
    "### Additional Resources for this Sprint\n",
    "\n",
    "- [ ] [Andrew Gelman Blog](https://statmodeling.stat.columbia.edu/)\n",
    "- [ ] [Ronny Kohavi, Diane Tang, Ya Xu - Trustworthy Online Controlled Experiments: A Practical Guide to A/B Testing](https://www.amazon.com/Trustworthy-Online-Controlled-Experiments-Practical/dp/1108724264/ref=sr_1_1?crid=373750Q3U8VVV&dib=eyJ2IjoiMSJ9.3n8P8d0FvU0dKN_lC7cMIJu1deoCoHMU0vW71w4IzsC6u9g2MZvSmiYjIP-M85e3R2592_GeBL0OZVT6Aychkuqy27jXDezsatSW6c1GbW2X3R7rsHB4U1-5T0o0RX0C1V0mVJvFn6C47q5DoqX7KCtJpvqCbxO64_L4FMkGzOb0lHopN5f6pFzfRo2RkPSi.nVnzJkHQ7NMXoh30e3U1UBeSQeRYqEgO6J088qb5Bb4&dib_tag=se&keywords=trustworthy+online+controlled+experiments&qid=1713720755&sprefix=trustworty+online+%2Caps%2C173&sr=8-1)\n",
    "- [ ] [Harvard’s Statistics 110: Probability course](https://projects.iq.harvard.edu/stat110)\n",
    "- [ ] [Richard McElreath - Statistical Rethinking](https://xcelab.net/rm/)\n",
    "- [ ] [Allen Downey Blog](https://www.allendowney.com/blog/)\n"
   ]
  }
 ],
 "metadata": {
  "kernelspec": {
   "display_name": "Python 3",
   "language": "python",
   "name": "python3"
  },
  "language_info": {
   "codemirror_mode": {
    "name": "ipython",
    "version": 3
   },
   "file_extension": ".py",
   "mimetype": "text/x-python",
   "name": "python",
   "nbconvert_exporter": "python",
   "pygments_lexer": "ipython3",
   "version": "3.9.5"
  }
 },
 "nbformat": 4,
 "nbformat_minor": 5
}
